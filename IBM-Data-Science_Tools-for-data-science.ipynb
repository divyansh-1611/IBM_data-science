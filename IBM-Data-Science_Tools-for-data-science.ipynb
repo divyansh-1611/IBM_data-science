{
 "cells": [
  {
   "cell_type": "markdown",
   "id": "951c8532",
   "metadata": {},
   "source": [
    "# IBM-Data-Science_Tools-for-data-science"
   ]
  },
  {
   "cell_type": "markdown",
   "id": "8f4b7671",
   "metadata": {},
   "source": [
    "### Introduction\n",
    "This is the peer graded assignment for the Tools for data science course.\n"
   ]
  },
  {
   "cell_type": "markdown",
   "id": "e9dae426",
   "metadata": {},
   "source": [
    "#### Languages used for data science\n",
    "\n",
    "- Python\n",
    "- R\n",
    "- SQL\n",
    "- Java\n",
    "- MATLAB"
   ]
  },
  {
   "cell_type": "markdown",
   "id": "b8531706",
   "metadata": {},
   "source": [
    "#### Libraries for data science\n",
    "- NumPy: A library for scientific computing with Python.\n",
    "- Pandas: A library for data analysis and manipulation.\n",
    "- SciPy: A library for scientific and technical computing with Python.\n",
    "- scikit-learn: A library for machine learning.\n",
    "- TensorFlow: A library for machine learning and deep learning.\n",
    "- PyTorch: A library for machine learning and deep learning.\n",
    "- Matplotlib: A library for data visualization.\n",
    "- Seaborn: A library for data visualization.\n",
    "- Plotly: A library for data visualization.\n",
    "- Keras: A high-level API for TensorFlow and PyTorch.\n",
    "- Natural Language Toolkit: A library for natural language processing.\n",
    "- OpenCV: A library for computer vision and image processing."
   ]
  },
  {
   "cell_type": "markdown",
   "id": "9ff87004",
   "metadata": {},
   "source": [
    "#### Data Science Tools\n",
    "\n",
    "| Category | Tool | Description |\n",
    "|---|---|---|\n",
    "| Programming languages | Python, R, SQL, Julia, JavaScript | Used for data cleaning, analysis, and machine learning. |\n",
    "| Databases | MySQL, PostgreSQL, SQLite, MongoDB, Cassandra | Used to store and manage data. |\n",
    "| Data visualization tools | Matplotlib, Seaborn, Plotly, ggplot2 | Used to create charts and graphs to visualize data. |\n",
    "| Machine learning tools | TensorFlow, PyTorch, scikit-learn, caret, glmnet, randomForest, xgboost | Used to train and deploy machine learning models. |\n",
    "| Cloud computing platforms | AWS, Azure, Google Cloud Platform | Provide scalable and reliable infrastructure for data science workloads. |\n",
    "| Other tools | Jupyter Notebook, RStudio, Visual Studio Code | Provide integrated development environments for data science. |\n"
   ]
  },
  {
   "cell_type": "markdown",
   "id": "dc322be0",
   "metadata": {},
   "source": [
    "#### Below are a few examples of evaluating arithmetic expressions in Python\n"
   ]
  },
  {
   "cell_type": "code",
   "execution_count": null,
   "id": "891a05c3",
   "metadata": {},
   "outputs": [],
   "source": [
    "# Arithmetic operations\n",
    "code = compile(\"5 + 4\", \"<string>\", \"eval\")\n",
    "eval(code)\n",
    "# Result: 9"
   ]
  },
  {
   "cell_type": "code",
   "execution_count": null,
   "id": "4cbfd2d4",
   "metadata": {},
   "outputs": [],
   "source": [
    "code1 = compile(\"(5 + 7) * 2\", \"<string>\", \"eval\")\n",
    "eval(code1)\n",
    "# Result: 24"
   ]
  },
  {
   "cell_type": "markdown",
   "id": "9a2a4705",
   "metadata": {},
   "source": [
    "import math\n",
    "# Volume of a sphere\n",
    "code2 = compile(\"4 / 3 * math.pi * math.pow(25, 3)\", \"<string>\", \"eval\")\n",
    "eval(code2)\n",
    "# Result: 65449.84694978735\n"
   ]
  },
  {
   "cell_type": "markdown",
   "id": "3fdffc95",
   "metadata": {},
   "source": [
    "#### Code cell for adding and multiplying"
   ]
  },
  {
   "cell_type": "code",
   "execution_count": 1,
   "id": "b0296bb0",
   "metadata": {},
   "outputs": [
    {
     "data": {
      "text/plain": [
       "17"
      ]
     },
     "execution_count": 1,
     "metadata": {},
     "output_type": "execute_result"
    }
   ],
   "source": [
    "(3*4)+5\n",
    "# Result: 17"
   ]
  },
  {
   "cell_type": "markdown",
   "id": "39fd46dc",
   "metadata": {},
   "source": [
    "#### Code to convert minutes into hours\n",
    "This will convert 400 minutes to hours by diving by 60"
   ]
  },
  {
   "cell_type": "code",
   "execution_count": 2,
   "id": "d1096cce",
   "metadata": {},
   "outputs": [
    {
     "name": "stdout",
     "output_type": "stream",
     "text": [
      "0 days, 6.666666666666667 hours, 0 mins. \n"
     ]
    }
   ],
   "source": [
    "days = 0\n",
    "hours = 0\n",
    "mins = 0\n",
    "\n",
    "time = 400\n",
    "#days = time / 1440\n",
    "leftover_minutes = time % 1440\n",
    "hours = leftover_minutes / 60\n",
    "#mins = time - (days*1440) - (hours*60)\n",
    "print(str(days) + \" days, \" + str(hours) + \" hours, \" + str(mins) +  \" mins. \")\n",
    "\n",
    "# Result: 6.666666666666667 hours"
   ]
  },
  {
   "cell_type": "markdown",
   "id": "4f575de1",
   "metadata": {},
   "source": [
    "#### Cell with Objective list"
   ]
  },
  {
   "cell_type": "markdown",
   "id": "6777cd6c",
   "metadata": {},
   "source": [
    "<strong>Objectives:</strong>\n",
    "<ul>\n",
    "    <li>List popular languages that Data Scientists use.</li>\n",
    "    <li>List commonly used libraries used by Data Scientists.</li>\n",
    "    <li>Comment on Data Science tools.</li>\n",
    "</ul>"
   ]
  },
  {
   "cell_type": "markdown",
   "id": "6b5e92a6",
   "metadata": {},
   "source": [
    "### Author : Divyansh Kumar"
   ]
  },
  {
   "cell_type": "code",
   "execution_count": null,
   "id": "0a2a0749",
   "metadata": {},
   "outputs": [],
   "source": []
  }
 ],
 "metadata": {
  "kernelspec": {
   "display_name": "Python 3 (ipykernel)",
   "language": "python",
   "name": "python3"
  },
  "language_info": {
   "codemirror_mode": {
    "name": "ipython",
    "version": 3
   },
   "file_extension": ".py",
   "mimetype": "text/x-python",
   "name": "python",
   "nbconvert_exporter": "python",
   "pygments_lexer": "ipython3",
   "version": "3.11.4"
  }
 },
 "nbformat": 4,
 "nbformat_minor": 5
}
